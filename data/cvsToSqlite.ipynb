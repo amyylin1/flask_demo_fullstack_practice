import sqlite3
import pandas as pd

df_comic = pd.read_csv(r'C:\src\CU-VIRT-DATA-PT-02-2023-U-LOLC\04_DataAnalysis\Pandas_1_Activities\10-Stu_ComicBooksCSV\Solved\Resources\comic_books_expanded.csv')
df_emails = pd.read_csv(r'C:\src\CU-VIRT-DATA-PT-02-2023-U-LOLC\04_DataAnalysis\Pandas_1_Activities\09-Ins_ReadingWritingCSV\Solved\Resources\DataOne.csv')

cnxn = sqlite3.connect('comic_books.db')
crsr = cnxn.cursor()

# create tables with a primary key
create_emails = """CREATE TABLE emails (
id integer PRIMARY KEY,
full_name text,
email text,
gender text);
"""
crsr.execute(create_emails)

# comics has a ton of columns, and it does not have a unique column.
# we need to make our own unique key. We will then use a loop to make our create statement

create_comic = """CREATE TABLE comic_books (
EntryID integer PRIMARY KEY"""
for c in df_comic.columns:
    create_comic = create_comic + f",'{c}' text"
create_comic = create_comic + ");"
crsr.execute(create_comic)
df_comic["EntryID"] = df_comic.index # need to create this column now

df_comic.to_sql('comic_books', cnxn, index=False, if_exists="append")
df_emails.to_sql('emails', cnxn, index=False, if_exists="append")

cnxn.close()